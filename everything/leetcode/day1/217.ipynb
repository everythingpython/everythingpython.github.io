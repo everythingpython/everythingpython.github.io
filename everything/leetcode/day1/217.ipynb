{
 "cells": [
  {
   "cell_type": "markdown",
   "metadata": {},
   "source": [
    "## Number 217"
   ]
  },
  {
   "cell_type": "markdown",
   "metadata": {},
   "source": [
    "[https://leetcode.com/problems/contains-duplicate/]([https://leetcode.com/problems/contains-duplicate/])"
   ]
  },
  {
   "cell_type": "code",
   "execution_count": 3,
   "metadata": {},
   "outputs": [],
   "source": [
    "from typing import List\n",
    "\n",
    "class Solution:\n",
    "    def containsDuplicate(self, nums: List[int]) -> bool:\n",
    "        nums2 = (set(nums))\n",
    "        if len(nums2) != len(nums):\n",
    "            return True\n",
    "        return False\n",
    "\n",
    "a = Solution()"
   ]
  },
  {
   "cell_type": "code",
   "execution_count": 4,
   "metadata": {},
   "outputs": [
    {
     "name": "stdout",
     "output_type": "stream",
     "text": [
      "True\n",
      "False\n",
      "True\n"
     ]
    }
   ],
   "source": [
    "print(a.containsDuplicate([1,2,3,1]))\n",
    "print(a.containsDuplicate([1,2,3,4]))\n",
    "print(a.containsDuplicate([1,1,1,3,3,4,3,2,4,2]))"
   ]
  }
 ],
 "metadata": {
  "interpreter": {
   "hash": "371337a747fa705b91557fb24c3109d5ae0934f825b5297282efde92c63f4cbb"
  },
  "kernelspec": {
   "display_name": "Python 3.6.8 64-bit ('kerch': conda)",
   "language": "python",
   "name": "python3"
  },
  "language_info": {
   "codemirror_mode": {
    "name": "ipython",
    "version": 3
   },
   "file_extension": ".py",
   "mimetype": "text/x-python",
   "name": "python",
   "nbconvert_exporter": "python",
   "pygments_lexer": "ipython3",
   "version": "3.6.8"
  }
 },
 "nbformat": 4,
 "nbformat_minor": 2
}

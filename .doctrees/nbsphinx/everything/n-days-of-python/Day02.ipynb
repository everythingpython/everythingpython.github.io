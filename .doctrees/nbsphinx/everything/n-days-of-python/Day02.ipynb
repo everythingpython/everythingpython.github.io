{
 "cells": [
  {
   "cell_type": "markdown",
   "id": "37aa271c-0abe-41bf-af1e-f5b10616128a",
   "metadata": {},
   "source": [
    "### Day 02: Date : 31 Jul 2022"
   ]
  },
  {
   "cell_type": "markdown",
   "id": "b81f1fcc",
   "metadata": {},
   "source": [
    "**So, what is serialization?**\n",
    "\n",
    "> Serialization is the process of converting an object into a stream of bytes to store the object or transmit it to memory, a database, or a file. Its main purpose is to save the state of an object in order to be able to recreate it when needed. - https://bit.ly/ms-defn-serialization\n",
    "\n",
    "There are multiple ways to achieve this. 2 of the most common ways are to either convert it to a pickle file or a json file. The lesser known ways are to use something called an in-built module  called `marshal` or to install a library called `msgpack`. The reason most people don't use marshal or are never marketed it is because by design, it's not meant for general Python objects. From the official Python documentation - \"The marshal module exists mainly to support reading and writing the “pseudo-compiled” code for Python modules of .pyc files.\".\n",
    "But for the purposes of this experiment, we will look at how it compares to pickling. For the most part, the timings are comparable and again to quote from the documentation in favor of `pickle` over `marshal`, \"the performance is comparable, version independence is guaranteed, and pickle supports a substantially wider range of objects than marshal.\".\n",
    "\n",
    "Spoiler alert : JSON is the slowest of the lot."
   ]
  },
  {
   "cell_type": "code",
   "execution_count": 5,
   "id": "92ded8b7-cc1f-4eeb-90c7-0c9d35e125ec",
   "metadata": {
    "execution": {
     "iopub.execute_input": "2022-07-30T20:16:58.343617Z",
     "iopub.status.busy": "2022-07-30T20:16:58.343434Z",
     "iopub.status.idle": "2022-07-30T20:17:03.524698Z",
     "shell.execute_reply": "2022-07-30T20:17:03.524196Z",
     "shell.execute_reply.started": "2022-07-30T20:16:58.343599Z"
    },
    "tags": []
   },
   "outputs": [
    {
     "name": "stdout",
     "output_type": "stream",
     "text": [
      "Filename : datafile.dat. Filesize: 0.95 MB\n",
      "func:test_marshal_timing took: 0.0030 sec\n",
      "\n",
      "Filename : filename.pickle. Filesize: 0.95 MB\n",
      "func:test_pickle_timing took: 0.0020 sec\n",
      "\n",
      "Filename : filename.msgpack. Filesize: 0.95 MB\n",
      "func:test_msgpack_timing took: 0.0020 sec\n",
      "\n",
      "Filename : filename.json. Filesize: 0.95 MB\n",
      "func:test_json_timing took: 0.0200 sec\n",
      "\n"
     ]
    }
   ],
   "source": [
    "import os\n",
    "\n",
    "import json\n",
    "import pickle\n",
    "import marshal\n",
    "import msgpack\n",
    "\n",
    "from utils import timing, get_file_size\n",
    "\n",
    "\n",
    "@timing\n",
    "def test_marshal_timing(filename, data):\n",
    "    with open(f\"outputs/{filename}\", 'wb') as f:\n",
    "        marshal.dump(data, f)\n",
    "        print(f'Filename : {filename}. Filesize: {get_file_size(f\"outputs/{filename}\")} MB')\n",
    "\n",
    "\n",
    "@timing\n",
    "def test_json_timing(filename, data):\n",
    "    with open(f\"outputs/{filename}\", \"w\") as f:\n",
    "        json.dump(data, f)\n",
    "        print(f'Filename : {filename}. Filesize: {get_file_size(f\"outputs/{filename}\")} MB')\n",
    "    \n",
    "@timing\n",
    "def test_pickle_timing(filename, data):\n",
    "    with open(f\"outputs/{filename}\", 'wb') as f:\n",
    "        pickle.dump(data, f, protocol=pickle.HIGHEST_PROTOCOL)\n",
    "        print(f'Filename : {filename}. Filesize: {get_file_size(f\"outputs/{filename}\")} MB')\n",
    "        \n",
    "@timing\n",
    "def test_msgpack_timing(filename, data):\n",
    "    with open(f\"outputs/{filename}\", \"wb\") as f:\n",
    "        packed = msgpack.packb(data)\n",
    "        f.write(packed)\n",
    "        print(f'Filename : {filename}. Filesize: {get_file_size(f\"outputs/{filename}\")} MB')\n",
    "\n",
    "end_limit = 1000000\n",
    "full_string = \"a\"*end_limit\n",
    "full_list = list(range(end_limit))\n",
    "test_marshal_timing('datafile.dat', full_string)        \n",
    "test_pickle_timing('filename.pickle', full_string)\n",
    "test_msgpack_timing(\"filename.msgpack\", full_string)\n",
    "test_json_timing(\"filename.json\", full_string)\n"
   ]
  },
  {
   "cell_type": "markdown",
   "id": "684ceb58",
   "metadata": {},
   "source": [
    "Github link : https://github.com/everythingpython/ndaysofpython/blob/main/Day02.ipynb"
   ]
  }
 ],
 "metadata": {
  "kernelspec": {
   "display_name": "Python 3.9.2 ('jupy')",
   "language": "python",
   "name": "python3"
  },
  "language_info": {
   "codemirror_mode": {
    "name": "ipython",
    "version": 3
   },
   "file_extension": ".py",
   "mimetype": "text/x-python",
   "name": "python",
   "nbconvert_exporter": "python",
   "pygments_lexer": "ipython3",
   "version": "3.9.2"
  },
  "vscode": {
   "interpreter": {
    "hash": "4c5699541d48eae5fccd240fd7045bdd8939c9066fc6386d3155623bee6b4c1a"
   }
  }
 },
 "nbformat": 4,
 "nbformat_minor": 5
}

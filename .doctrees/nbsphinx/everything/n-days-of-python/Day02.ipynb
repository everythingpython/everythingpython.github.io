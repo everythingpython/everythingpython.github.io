{
 "cells": [
  {
   "cell_type": "markdown",
   "id": "37aa271c-0abe-41bf-af1e-f5b10616128a",
   "metadata": {},
   "source": [
    "### Day 02: Date : 31 Jul 2022"
   ]
  },
  {
   "cell_type": "code",
   "execution_count": 1,
   "id": "92ded8b7-cc1f-4eeb-90c7-0c9d35e125ec",
   "metadata": {
    "execution": {
     "iopub.execute_input": "2022-08-01T05:33:50.651584Z",
     "iopub.status.busy": "2022-08-01T05:33:50.651107Z",
     "iopub.status.idle": "2022-08-01T05:33:50.707482Z",
     "shell.execute_reply": "2022-08-01T05:33:50.707126Z",
     "shell.execute_reply.started": "2022-07-30T20:16:58.343599Z"
    },
    "tags": []
   },
   "outputs": [
    {
     "name": "stdout",
     "output_type": "stream",
     "text": [
      "Filename : filename.msgpack. Filesize: 0.95 MB\n",
      "func:test_msgpack_timing took: 0.0040 sec\n",
      "\n",
      "Filename : datafile.dat. Filesize: 0.95 MB\n",
      "func:test_marshal_timing took: 0.0022 sec\n",
      "\n",
      "Filename : filename.pickle. Filesize: 0.95 MB\n",
      "func:test_pickle_timing took: 0.0020 sec\n",
      "\n",
      "Filename : filename.json. Filesize: 0.95 MB\n",
      "func:test_json_timing took: 0.0037 sec\n",
      "\n"
     ]
    }
   ],
   "source": [
    "import os\n",
    "\n",
    "import json\n",
    "import pickle\n",
    "import marshal\n",
    "import msgpack\n",
    "\n",
    "from utils import timing\n",
    "\n",
    "def get_file_size(filename):\n",
    "    file_size = os.path.getsize(filename)\n",
    "    file_size = file_size/(1024.0*1024.0)\n",
    "    file_size = round(file_size,2)\n",
    "    return file_size\n",
    "\n",
    "\n",
    "@timing\n",
    "def test_marshal_timing(filename, data):\n",
    "    with open(f\"outputs/{filename}\", 'wb') as f:\n",
    "        marshal.dump(data, f)\n",
    "        print(f'Filename : {filename}. Filesize: {get_file_size(f\"outputs/{filename}\")} MB')\n",
    "\n",
    "\n",
    "@timing\n",
    "def test_json_timing(filename, data):\n",
    "    with open(f\"outputs/{filename}\", \"w\") as f:\n",
    "        json.dump(data, f)\n",
    "        print(f'Filename : {filename}. Filesize: {get_file_size(f\"outputs/{filename}\")} MB')\n",
    "    \n",
    "@timing\n",
    "def test_pickle_timing(filename, data):\n",
    "    with open(f\"outputs/{filename}\", 'wb') as f:\n",
    "        pickle.dump(data, f, protocol=pickle.HIGHEST_PROTOCOL)\n",
    "        print(f'Filename : {filename}. Filesize: {get_file_size(f\"outputs/{filename}\")} MB')\n",
    "        \n",
    "@timing\n",
    "def test_msgpack_timing(filename, data):\n",
    "    with open(f\"outputs/{filename}\", \"wb\") as f:\n",
    "        packed = msgpack.packb(data)\n",
    "        f.write(packed)\n",
    "        print(f'Filename : {filename}. Filesize: {get_file_size(f\"outputs/{filename}\")} MB')\n",
    "\n",
    "end_limit = 1000000\n",
    "full_string = \"a\"*end_limit\n",
    "full_list = list(range(end_limit))\n",
    "test_msgpack_timing(\"filename.msgpack\", full_string)\n",
    "test_marshal_timing('datafile.dat', full_string)        \n",
    "test_pickle_timing('filename.pickle', full_string)\n",
    "test_json_timing(\"filename.json\", full_string)\n"
   ]
  }
 ],
 "metadata": {
  "kernelspec": {
   "display_name": "Python 3.9.2 ('jupy')",
   "language": "python",
   "name": "python3"
  },
  "language_info": {
   "codemirror_mode": {
    "name": "ipython",
    "version": 3
   },
   "file_extension": ".py",
   "mimetype": "text/x-python",
   "name": "python",
   "nbconvert_exporter": "python",
   "pygments_lexer": "ipython3",
   "version": "3.8.10"
  },
  "vscode": {
   "interpreter": {
    "hash": "4c5699541d48eae5fccd240fd7045bdd8939c9066fc6386d3155623bee6b4c1a"
   }
  }
 },
 "nbformat": 4,
 "nbformat_minor": 5
}

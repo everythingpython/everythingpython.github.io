{
 "cells": [
  {
   "cell_type": "markdown",
   "metadata": {},
   "source": [
    "## Number 268"
   ]
  },
  {
   "cell_type": "markdown",
   "metadata": {},
   "source": [
    "[https://leetcode.com/problems/missing-number/](https://leetcode.com/problems/missing-number/)"
   ]
  },
  {
   "cell_type": "code",
   "execution_count": 2,
   "metadata": {},
   "outputs": [],
   "source": [
    "from typing import List\n",
    "\n",
    "class Solution:\n",
    "    def missingNumber(self, nums: List[int]) -> int:\n",
    "        sum_ = sum(nums)\n",
    "        l_nums = len(nums)\n",
    "        needed_sum = (l_nums*(l_nums+1))/2\n",
    "        return int(needed_sum - sum_)\n",
    "\n",
    "a = Solution()\n"
   ]
  },
  {
   "cell_type": "code",
   "execution_count": 3,
   "metadata": {},
   "outputs": [
    {
     "name": "stdout",
     "output_type": "stream",
     "text": [
      "2\n",
      "2\n",
      "8\n"
     ]
    }
   ],
   "source": [
    "print(a.missingNumber([3,0,1]))\n",
    "print(a.missingNumber([0,1]))\n",
    "print(a.missingNumber([9,6,4,2,3,5,7,0,1]))"
   ]
  }
 ],
 "metadata": {
  "interpreter": {
   "hash": "033d5ea8e9748582193a6d8f975af35153e280c1f566336ac6ff582d76ae2a04"
  },
  "kernelspec": {
   "display_name": "Python 3.6.8 64-bit",
   "language": "python",
   "name": "python3"
  },
  "language_info": {
   "codemirror_mode": {
    "name": "ipython",
    "version": 3
   },
   "file_extension": ".py",
   "mimetype": "text/x-python",
   "name": "python",
   "nbconvert_exporter": "python",
   "pygments_lexer": "ipython3",
   "version": "3.6.8"
  }
 },
 "nbformat": 4,
 "nbformat_minor": 2
}
